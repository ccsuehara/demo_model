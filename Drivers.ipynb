{
  "nbformat": 4,
  "nbformat_minor": 0,
  "metadata": {
    "colab": {
      "name": "Drivers.ipynb",
      "provenance": [],
      "authorship_tag": "ABX9TyPrYYwz2kiVBJxNGRDuwXj0",
      "include_colab_link": true
    },
    "kernelspec": {
      "name": "python3",
      "display_name": "Python 3"
    },
    "language_info": {
      "name": "python"
    }
  },
  "cells": [
    {
      "cell_type": "markdown",
      "metadata": {
        "id": "view-in-github",
        "colab_type": "text"
      },
      "source": [
        "<a href=\"https://colab.research.google.com/github/ccsuehara/demo_model/blob/main/Drivers.ipynb\" target=\"_parent\"><img src=\"https://colab.research.google.com/assets/colab-badge.svg\" alt=\"Open In Colab\"/></a>"
      ]
    },
    {
      "cell_type": "markdown",
      "source": [
        "# Version 1: Drivers of deforestation \n",
        "Objective: \n",
        "Extend initial work for other countries"
      ],
      "metadata": {
        "id": "w4nMG-3-KtCr"
      }
    },
    {
      "cell_type": "markdown",
      "source": [
        "<a id='Index'></a>\n",
        "## Index\n",
        "- [Initial instructions](#Paths)\n",
        "- [Libraries](#Prev_inp)\n",
        "- [Functions](#TOC)"
      ],
      "metadata": {
        "id": "s0Mx3s60K31o"
      }
    },
    {
      "cell_type": "markdown",
      "source": [
        "## If this is run on Google Colab:\n",
        "- Mount Drive\n",
        "- Load libraries and functions"
      ],
      "metadata": {
        "id": "-ul_9Bs_NrmB"
      }
    },
    {
      "cell_type": "code",
      "source": [
        "drive.mount('/content/drive')\n"
      ],
      "metadata": {
        "id": "uTKygzNjN27F"
      },
      "execution_count": null,
      "outputs": []
    },
    {
      "cell_type": "code",
      "source": [
        ""
      ],
      "metadata": {
        "id": "9wDVWbQMN_bu"
      },
      "execution_count": null,
      "outputs": []
    }
  ]
}