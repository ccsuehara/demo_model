{
  "nbformat": 4,
  "nbformat_minor": 0,
  "metadata": {
    "colab": {
      "name": "Drivers.ipynb",
      "provenance": [],
      "authorship_tag": "ABX9TyPjaivab1kbtxMj2NaVdwoS",
      "include_colab_link": true
    },
    "kernelspec": {
      "name": "python3",
      "display_name": "Python 3"
    },
    "language_info": {
      "name": "python"
    }
  },
  "cells": [
    {
      "cell_type": "markdown",
      "metadata": {
        "id": "view-in-github",
        "colab_type": "text"
      },
      "source": [
        "<a href=\"https://colab.research.google.com/github/ccsuehara/demo_model/blob/main/Drivers.ipynb\" target=\"_parent\"><img src=\"https://colab.research.google.com/assets/colab-badge.svg\" alt=\"Open In Colab\"/></a>"
      ]
    },
    {
      "cell_type": "markdown",
      "source": [
        "# Version 1: Drivers of deforestation \n",
        "Objective: \n",
        "Extend initial work for other countries"
      ],
      "metadata": {
        "id": "w4nMG-3-KtCr"
      }
    },
    {
      "cell_type": "markdown",
      "source": [
        "<a id='Index'></a>\n",
        "## Index\n",
        "- [Initial instructions](#Paths)\n",
        "- [Libraries](#Libs)\n",
        "- [Functions](#Funcs)"
      ],
      "metadata": {
        "id": "s0Mx3s60K31o"
      }
    },
    {
      "cell_type": "markdown",
      "source": [
        "<a id='Paths'></a>\n",
        "\n",
        "## If this is run on Google Colab:\n",
        "- Mount Drive\n",
        "- Load libraries and functions"
      ],
      "metadata": {
        "id": "-ul_9Bs_NrmB"
      }
    },
    {
      "cell_type": "code",
      "source": [
        "drive.mount('/content/drive')\n"
      ],
      "metadata": {
        "id": "uTKygzNjN27F"
      },
      "execution_count": null,
      "outputs": []
    },
    {
      "cell_type": "markdown",
      "source": [
        "<a id='Libs'></a>\n",
        "## Import libraries"
      ],
      "metadata": {
        "id": "QlbLmVN5SkI9"
      }
    },
    {
      "cell_type": "code",
      "source": [
        ""
      ],
      "metadata": {
        "id": "FSbHZdZLSmIT"
      },
      "execution_count": null,
      "outputs": []
    },
    {
      "cell_type": "markdown",
      "source": [
        "<a id='Funcs'></a>\n",
        "## Functions"
      ],
      "metadata": {
        "id": "Sgh_Dd1ZSmz5"
      }
    },
    {
      "cell_type": "code",
      "source": [
        ""
      ],
      "metadata": {
        "id": "HOVJDnt1SsDu"
      },
      "execution_count": null,
      "outputs": []
    },
    {
      "cell_type": "markdown",
      "source": [
        "## Back to index\n"
      ],
      "metadata": {
        "id": "Vu_xR3q-Sw62"
      }
    }
  ]
}